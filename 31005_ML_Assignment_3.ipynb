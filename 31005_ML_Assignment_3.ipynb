{
  "nbformat": 4,
  "nbformat_minor": 0,
  "metadata": {
    "colab": {
      "name": "Untitled2.ipynb",
      "provenance": [],
      "include_colab_link": true
    },
    "kernelspec": {
      "name": "python3",
      "display_name": "Python 3"
    }
  },
  "cells": [
    {
      "cell_type": "markdown",
      "metadata": {
        "id": "view-in-github",
        "colab_type": "text"
      },
      "source": [
        "<a href=\"https://colab.research.google.com/github/HaozheTong/UTS_ML_2019_SID13019841_ASSIGNMENT/blob/master/31005_ML_Assignment_3.ipynb\" target=\"_parent\"><img src=\"https://colab.research.google.com/assets/colab-badge.svg\" alt=\"Open In Colab\"/></a>"
      ]
    },
    {
      "cell_type": "markdown",
      "metadata": {
        "id": "0ZyP0HjEK-S8",
        "colab_type": "text"
      },
      "source": [
        "# 31005 Machine Learning \n",
        "# Assignment 3"
      ]
    },
    {
      "cell_type": "markdown",
      "metadata": {
        "id": "gdm7WIv0K-hB",
        "colab_type": "text"
      },
      "source": [
        "Haozhe.Tong SID: 13019841"
      ]
    },
    {
      "cell_type": "markdown",
      "metadata": {
        "id": "DYyqNOeLZO1f",
        "colab_type": "text"
      },
      "source": [
        "## Introduction"
      ]
    },
    {
      "cell_type": "markdown",
      "metadata": {
        "id": "eBUOJPY-ZO4F",
        "colab_type": "text"
      },
      "source": [
        "I will discuss the possibility of predicting whether a Twitter message could be spread as a meme or not in this paper. The term “meme” firstly emerged from “The Selfish Gene” written by Richard Dawkins in 1976, it was defined as “the unit of culture transmission” (Dawkins, 1976 cited in Díaz C and Mauricio C, 2013). With the advance of the internet, the concept of “meme” is extended to the internet layer. The internet meme refers to a concept or idea that spread from one person to another through the internet (Díaz C and Mauricio C, 2013), it could be an image, an email, a video or any other things popular among the net-users. "
      ]
    },
    {
      "cell_type": "markdown",
      "metadata": {
        "id": "LzBl0_bdZO6r",
        "colab_type": "text"
      },
      "source": [
        "In this paper, I discuss the reason why it is hard to predict whether a Twitter message will be spread as meme or not or what kind of message will be spread. And I present two approaches that used to predict whether a tweet will go viral or not. In the last section, I try to discuss the ethical and social consequences if a pattern exists and it is implemented in society. "
      ]
    },
    {
      "cell_type": "markdown",
      "metadata": {
        "id": "3hTYa8OrZO9S",
        "colab_type": "text"
      },
      "source": [
        "## Reason"
      ]
    },
    {
      "cell_type": "markdown",
      "metadata": {
        "id": "BgnG1groZO_4",
        "colab_type": "text"
      },
      "source": [
        "In this paper, I discuss the reason why it is hard to predict whether a Twitter message will be spread as meme or not or what kind of message will be spread. And I present two approaches that used to predict whether a tweet will go viral or not. In the last section, I try to discuss the ethical and social consequences if a pattern exists and it is implemented in society. "
      ]
    },
    {
      "cell_type": "markdown",
      "metadata": {
        "id": "Vl_6Y1vYZPCe",
        "colab_type": "text"
      },
      "source": [
        "On the other hand, the popular internet meme has changed all the time. Such popularity of a current meme could be suddenly transformed and non-directive that people cannot discover a pattern. In 2019, for example, the best memes are “Ugandan Knuckles”, “Super Bowl Selfie Kid”, “Gym Kardashian” …. However, the best memes for 2018 are “Don't say it”, “A Star is Born memes”, “Squinting woman” and so on. There are no similar memes according to the comparison of these two years. I believe that the biggest obstacle to solving this problem comes from humans themselves. "
      ]
    },
    {
      "cell_type": "markdown",
      "metadata": {
        "id": "t_sB_Io-ZPE9",
        "colab_type": "text"
      },
      "source": [
        "## Prediction Approaches"
      ]
    },
    {
      "cell_type": "markdown",
      "metadata": {
        "id": "oeJEqcapZPHc",
        "colab_type": "text"
      },
      "source": [
        "There are two approaches can be used to predict whether a tweet will go viral or not with data analytics. However, these approaches are still conceptual which means they cannot yet predict the result accurately."
      ]
    },
    {
      "cell_type": "markdown",
      "metadata": {
        "id": "cZU1dHDBZPKI",
        "colab_type": "text"
      },
      "source": [
        "### Naive Bayes model"
      ]
    },
    {
      "cell_type": "markdown",
      "metadata": {
        "id": "lYqQseHvZPNg",
        "colab_type": "text"
      },
      "source": [
        "The purpose of the Naive Bayes model is to calculate the possibility to classify samples based on the Bayesian theorem (Maximilian, Gjergji & Felix 2013). For this case, this model can calculate a joint probability of NR(x) > T and the feature vector φ(x) for a tweet x following:"
      ]
    },
    {
      "cell_type": "markdown",
      "metadata": {
        "id": "cMpEjfkCZtlR",
        "colab_type": "text"
      },
      "source": [
        "$$P(N_R (x)>T,φ(x))=P(φ(x)| N_R (x)>T)P(N_R (x)>T)$$"
      ]
    },
    {
      "cell_type": "markdown",
      "metadata": {
        "id": "4S308NUnZtnv",
        "colab_type": "text"
      },
      "source": [
        "Because there is no workable standard to judge the viral tweet, a predefined threshold T that refers to the criteria of determining whether a tweet is viral or not will be required. NR(x) represents the number of retweets. "
      ]
    },
    {
      "cell_type": "markdown",
      "metadata": {
        "id": "I1tAehRCZtqa",
        "colab_type": "text"
      },
      "source": [
        "Naïve Bayes model is about the tweet feature, in other words, this model can be used to predict what kind of tweet could go viral. Therefore, it is required a random sample from a related dataset to train this prediction model. The samples can be generated from TREC 2011 microblog track and it can be separated into two groups, one for training and one for testing. A threshold T is a pre-determined condition to distinguish between non-viral and viral tweets, the different values of T could cause the different predicted results for the same sample. Hence, this model can be validated by comparison with the accuracy of the predicted result under different thresholds T."
      ]
    },
    {
      "cell_type": "markdown",
      "metadata": {
        "id": "aSkTaPecZttr",
        "colab_type": "text"
      },
      "source": [
        "### Time-sensitive modeling"
      ]
    },
    {
      "cell_type": "markdown",
      "metadata": {
        "id": "dNDq7FV7ZuFb",
        "colab_type": "text"
      },
      "source": [
        "A Time-sensitive model is built basing on the Passive-Aggressive (PA) algorithm. PA algorithm maintains a linear decision boundary, which is properly classified within a certain range for each new instance while keeping the decision boundary as close as possible to the old one (Petrovic, Osborne & Lavrenko 2011). Time-sensitive models will build different models based on when the tweet was created and predict the result through the passive-aggressive algorithm. "
      ]
    },
    {
      "cell_type": "markdown",
      "metadata": {
        "id": "UjF1GLU5ZuLg",
        "colab_type": "text"
      },
      "source": [
        "The way to validate this model is similar to the way that validates the Naive Bayes model. The time-sensitive model needs to assume that there are specific rules about what is being retweeted at every time of a day (Petrovic, Osborne & Lavrenko 2011). Because this model will create different models for a different time, the samples at different times should be divided into some subsets of data and then undergo PA algorithm to predict whether the tweet in a specific time will go viral or not. The result will be compared with the entire dataset and calculate the accuracy. "
      ]
    },
    {
      "cell_type": "markdown",
      "metadata": {
        "id": "YIKOrD5NaQhC",
        "colab_type": "text"
      },
      "source": [
        "## Ethical and Social Consequence"
      ]
    },
    {
      "cell_type": "markdown",
      "metadata": {
        "id": "wa8-bYzvaQjc",
        "colab_type": "text"
      },
      "source": [
        "\n",
        "A viral tweet could propagate false information which could negative effects. A viral tweet means that a tweet is shared by lots of people. If there is a template that enables a tweet to become viral discovered, all the kinds of the tweet could be viral and viewed by many net-users for better or worse. A repeated slander makes others believe. In this case, an advertising company can spread the fake information of their product by using the template, and then the product with fake information could be true after virally spread. It could harm society if there are many products with false information spread. \n",
        " \n"
      ]
    },
    {
      "cell_type": "markdown",
      "metadata": {
        "id": "b3ywPQs1aQmI",
        "colab_type": "text"
      },
      "source": [
        "People could restrict themselves if a standard pattern has been constructed. The concept of virality includes a sense of competition. Each popular internet meme is created by people which could be unique and nonredundant. This situation could be changed when the pattern of viral tweet come up. All the tweets or memes generate basing on this patter might be similar and redundant not only on Twitter but other social media and the innovation ability of people could also be decreased. "
      ]
    },
    {
      "cell_type": "markdown",
      "metadata": {
        "id": "TTN_6mcJaQpA",
        "colab_type": "text"
      },
      "source": [
        "## Reference "
      ]
    },
    {
      "cell_type": "markdown",
      "metadata": {
        "id": "afEV685laQsH",
        "colab_type": "text"
      },
      "source": [
        "\n",
        "\n",
        "\n",
        "*   Díaz C, Mauricio C. 2013, ‘Defining and characterizing the concept of Internet Meme’. CES Psicología, vol.6, no.2, pp.82-104.\n",
        "\n",
        "*   Maximilian,J., Gjergji, K. & Felix, N. 2013, ‘Analyzing and predicting viral tweets’, 2013 Companion - Proceedings of the 22nd International Conference on World Wide Web, pp.657-664.\n",
        "\n",
        "\n",
        "\n",
        "\n",
        "*   Petrovic, S., Osborne, M. & Lavrenko, V. 2011, ‘Rt to win! predicting message propagation in twitter’, Fifth International AAAI Conference on Weblogs and Social Media.\n",
        "\n",
        "*   Santiago, A. 2019, 15 of 2018's most exceptional memes, Mashable. viewed 6 October 2019, <https://mashable.com/article/best-memes-of-2018/>.\n",
        "\n",
        "\n",
        "\n",
        "\n",
        "*  20 of the Best Memes of 2019 (So Far!) 2019, Lifewire. viewed 6 October 2019, <https://www.lifewire.com/best-memes-4160652>.\n",
        "\n",
        "\n",
        "\n",
        "\n",
        "\n",
        "\n",
        "\n",
        "\n",
        "\n"
      ]
    }
  ]
}